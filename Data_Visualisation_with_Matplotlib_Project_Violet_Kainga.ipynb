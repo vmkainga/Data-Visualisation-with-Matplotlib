{
  "nbformat": 4,
  "nbformat_minor": 0,
  "metadata": {
    "colab": {
      "name": " Data Visualisation with Matplotlib Project-Violet Kainga",
      "provenance": [],
      "collapsed_sections": []
    },
    "kernelspec": {
      "name": "python3",
      "display_name": "Python 3"
    },
    "language_info": {
      "name": "python"
    }
  },
  "cells": [
    {
      "cell_type": "markdown",
      "metadata": {
        "id": "gtegFEJ83DN2"
      },
      "source": [
        "# AfterWork Data Science: Data Visualisation with Matplotlib"
      ]
    },
    {
      "cell_type": "markdown",
      "metadata": {
        "id": "kLG2VTrnTvYL"
      },
      "source": [
        "## 1. Defining the Question"
      ]
    },
    {
      "cell_type": "markdown",
      "metadata": {
        "id": "XecOwPNorl2W"
      },
      "source": [
        "### a) Specifying the Data Analysis Question"
      ]
    },
    {
      "cell_type": "markdown",
      "metadata": {
        "id": "pZykmRrbGd13"
      },
      "source": [
        "Specify the reasearch question that you'll be answering."
      ]
    },
    {
      "cell_type": "markdown",
      "metadata": {
        "id": "ym7-i7auXZPg"
      },
      "source": [
        "Recommendations on the kinds of movies Mima startup should\n",
        "create in order to have a profitable business.\n"
      ]
    },
    {
      "cell_type": "markdown",
      "metadata": {
        "id": "J4wfHZwQrs-t"
      },
      "source": [
        "### b) Defining the Metric for Success"
      ]
    },
    {
      "cell_type": "markdown",
      "metadata": {
        "id": "IuQcoaLFGjkH"
      },
      "source": [
        "Profitability of Mima based on the movies recommended"
      ]
    },
    {
      "cell_type": "markdown",
      "metadata": {
        "id": "a9BPYqunry97"
      },
      "source": [
        "### c) Understanding the context "
      ]
    },
    {
      "cell_type": "markdown",
      "metadata": {
        "id": "2jeqV9VPG1tg"
      },
      "source": [
        "Mima is a startup film company that aims to enter the film industry.\n",
        "As a data scientist consultant working for the startup, you're required to perform an\n",
        "analysis and provide recommendations on the kinds of movies that the startup should\n",
        "create in order to have a profitable business.\n",
        "\n",
        "\n"
      ]
    },
    {
      "cell_type": "markdown",
      "metadata": {
        "id": "7KMRBJ7zr9HD"
      },
      "source": [
        "### d) Recording the Experimental Design"
      ]
    },
    {
      "cell_type": "markdown",
      "metadata": {
        "id": "YG0dB0_PG5_i"
      },
      "source": [
        "Load libraries and datasets.\n",
        "\n",
        "Select the most appropriate variables to work with.\n",
        "\n",
        "Find and deal with duplicated data.\n",
        "\n",
        "Find and deal with missing values.\n",
        "\n",
        "Drop data that does not match\n",
        "\n",
        "Perform Data analysis to answer questions\n",
        "\n",
        "Plot variables to get relationships"
      ]
    },
    {
      "cell_type": "markdown",
      "metadata": {
        "id": "zSGyg6kWsBUl"
      },
      "source": [
        "### e) Data Relevance"
      ]
    },
    {
      "cell_type": "markdown",
      "metadata": {
        "id": "UogUWzkTHJ9D"
      },
      "source": [
        "The data provided was relevant"
      ]
    },
    {
      "cell_type": "markdown",
      "metadata": {
        "id": "iUNbvIvnT7ep"
      },
      "source": [
        "## 2. Reading the Data"
      ]
    },
    {
      "cell_type": "code",
      "metadata": {
        "id": "juxif2Sx8Z5_"
      },
      "source": [
        "# Loading libraries\n",
        "# ---\n",
        "# \n",
        "import pandas as pd\n",
        "import numpy as np\n",
        "import matplotlib.pyplot as plt    "
      ],
      "execution_count": null,
      "outputs": []
    },
    {
      "cell_type": "code",
      "metadata": {
        "id": "XJn2KjW-WMlG"
      },
      "source": [
        "# Loading the dataset\n",
        "# --- \n",
        "# Dataset url = http://bit.ly/MoviesDS\n",
        "# --- \n",
        "# \n",
        "df = pd.read_csv('http://bit.ly/MoviesDS')\n",
        "df.head()"
      ],
      "execution_count": null,
      "outputs": []
    },
    {
      "cell_type": "code",
      "metadata": {
        "id": "A95RQzFm8quY",
        "colab": {
          "base_uri": "https://localhost:8080/"
        },
        "outputId": "7c9ff702-ae9e-4439-ecf5-3b128c54e46f"
      },
      "source": [
        "# Determining the size \n",
        "# ---\n",
        "#\n",
        "df.shape"
      ],
      "execution_count": null,
      "outputs": [
        {
          "output_type": "execute_result",
          "data": {
            "text/plain": [
              "(10866, 21)"
            ]
          },
          "metadata": {},
          "execution_count": 8
        }
      ]
    },
    {
      "cell_type": "code",
      "metadata": {
        "id": "XDHj_5xu8w3a"
      },
      "source": [
        "# Checking the datatypes\n",
        "# ---\n",
        "# \n",
        "df.dtypes"
      ],
      "execution_count": null,
      "outputs": []
    },
    {
      "cell_type": "code",
      "metadata": {
        "id": "VxQQxSSq88II"
      },
      "source": [
        "# Statistical summary\n",
        "# ---\n",
        "#\n",
        "df.describe()"
      ],
      "execution_count": null,
      "outputs": []
    },
    {
      "cell_type": "code",
      "metadata": {
        "id": "IHoq4Fd79DSy"
      },
      "source": [
        "# Checking for missing values \n",
        "# ---\n",
        "# \n",
        "df.isnull().sum()"
      ],
      "execution_count": null,
      "outputs": []
    },
    {
      "cell_type": "markdown",
      "metadata": {
        "id": "ckfufNrcUHeH"
      },
      "source": [
        "## 3. External Data Source Validation"
      ]
    },
    {
      "cell_type": "markdown",
      "metadata": {
        "id": "6L4sl_0WXlbg"
      },
      "source": [
        "https://www.themoviedb.org/"
      ]
    },
    {
      "cell_type": "markdown",
      "metadata": {
        "id": "FlBMxEDBUc9B"
      },
      "source": [
        "## 4. Data Preparation"
      ]
    },
    {
      "cell_type": "code",
      "metadata": {
        "id": "qEFxByRP3oMj"
      },
      "source": [
        "# Dropping irrelevant columns\n",
        "# ---\n",
        "#\n",
        "df.drop(['id','imdb_id', 'homepage', 'overview'], axis=1, inplace=True)"
      ],
      "execution_count": null,
      "outputs": []
    },
    {
      "cell_type": "code",
      "metadata": {
        "id": "DJLY7ugk9Wgs"
      },
      "source": [
        "# Handling missing data\n",
        "# ---\n",
        "# \n",
        "df['cast'].fillna('missing', inplace=True )\n",
        "df['director'].fillna('missing', inplace=True)\n",
        "df['tagline'].fillna('missing', inplace=True)\n",
        "df['keywords'].fillna('missing', inplace=True)\n",
        "df['genres'].fillna('missing', inplace=True)\n",
        "df['production_companies'].fillna('missing', inplace=True) \n",
        "df['budget'] = df['budget'].replace(0, np.NAN) "
      ],
      "execution_count": null,
      "outputs": []
    },
    {
      "cell_type": "code",
      "metadata": {
        "id": "W4U0DZbs9nhs",
        "outputId": "65a01a3e-f8d7-47e8-c9c8-f0fe7ed36279",
        "colab": {
          "base_uri": "https://localhost:8080/",
          "height": 203
        }
      },
      "source": [
        "# Previewing the outcome\n",
        "# ---\n",
        "# \n",
        "df.isnull().sum()"
      ],
      "execution_count": null,
      "outputs": [
        {
          "output_type": "error",
          "ename": "NameError",
          "evalue": "ignored",
          "traceback": [
            "\u001b[0;31m---------------------------------------------------------------------------\u001b[0m",
            "\u001b[0;31mNameError\u001b[0m                                 Traceback (most recent call last)",
            "\u001b[0;32m<ipython-input-1-21f9c783854a>\u001b[0m in \u001b[0;36m<module>\u001b[0;34m()\u001b[0m\n\u001b[1;32m      2\u001b[0m \u001b[0;31m# ---\u001b[0m\u001b[0;34m\u001b[0m\u001b[0;34m\u001b[0m\u001b[0;34m\u001b[0m\u001b[0m\n\u001b[1;32m      3\u001b[0m \u001b[0;31m#\u001b[0m\u001b[0;34m\u001b[0m\u001b[0;34m\u001b[0m\u001b[0;34m\u001b[0m\u001b[0m\n\u001b[0;32m----> 4\u001b[0;31m \u001b[0mdf\u001b[0m\u001b[0;34m.\u001b[0m\u001b[0misnull\u001b[0m\u001b[0;34m(\u001b[0m\u001b[0;34m)\u001b[0m\u001b[0;34m.\u001b[0m\u001b[0msum\u001b[0m\u001b[0;34m(\u001b[0m\u001b[0;34m)\u001b[0m\u001b[0;34m\u001b[0m\u001b[0;34m\u001b[0m\u001b[0m\n\u001b[0m",
            "\u001b[0;31mNameError\u001b[0m: name 'df' is not defined"
          ]
        }
      ]
    },
    {
      "cell_type": "code",
      "metadata": {
        "id": "uT_2DjEh9tNL"
      },
      "source": [
        "# Checking for duplicates \n",
        "# ---\n",
        "#\n",
        "df.duplicated().sum()"
      ],
      "execution_count": null,
      "outputs": []
    },
    {
      "cell_type": "code",
      "metadata": {
        "id": "OidnIBWe93q0",
        "colab": {
          "base_uri": "https://localhost:8080/"
        },
        "outputId": "337ca55b-c3e3-4607-8218-eca115e1222f"
      },
      "source": [
        "# Dropping the duplicates \n",
        "# ---\n",
        "#\n",
        "df.drop_duplicates(inplace = True) \n",
        "\n",
        "# Checking for duplicates for comfirmation\n",
        "# ---\n",
        "#\n",
        "df.duplicated().sum()"
      ],
      "execution_count": null,
      "outputs": [
        {
          "output_type": "execute_result",
          "data": {
            "text/plain": [
              "0"
            ]
          },
          "metadata": {},
          "execution_count": 16
        }
      ]
    },
    {
      "cell_type": "markdown",
      "metadata": {
        "id": "vTbdjSrhVIiT"
      },
      "source": [
        "\n",
        "## 5. Solution Implementation"
      ]
    },
    {
      "cell_type": "markdown",
      "metadata": {
        "id": "PdHyc8WYHlAG"
      },
      "source": [
        "Here we investigate the questions that would help craft our recommendations."
      ]
    },
    {
      "cell_type": "markdown",
      "metadata": {
        "id": "Nh5mcts5IK8U"
      },
      "source": [
        "### 5.a) Questions"
      ]
    },
    {
      "cell_type": "markdown",
      "metadata": {
        "id": "0kGoZb21A5WH"
      },
      "source": [
        "#### **Question 1**: Do movies with a higher budget end up being popular?"
      ]
    },
    {
      "cell_type": "code",
      "metadata": {
        "id": "CxaO1YNY3yQ5",
        "colab": {
          "base_uri": "https://localhost:8080/",
          "height": 295
        },
        "outputId": "5a38af47-6ba3-48b5-a803-13ac7036ecfb"
      },
      "source": [
        "# Question 1\n",
        "# ---\n",
        "# Do movies with a higher budget end up being popular?\n",
        "# ---\n",
        "#\n",
        "\n",
        "# Create a scatter plot to determine relationship between budget and the popularity\n",
        "budget = df['budget']\n",
        "popularity = df['popularity']\n",
        "\n",
        "# Render \n",
        "plt.scatter(budget, popularity)\n",
        "\n",
        "# Tweak & Label \n",
        "plt.title('Scatterplot of Budget and Popularity')\n",
        "plt.xlabel('Budget')\n",
        "plt.ylabel('Popularity')\n",
        "\n",
        "# Display\n",
        "plt.show()\n",
        "\n",
        "#Movies with a higher budget do not necessarily end up being popular\n"
      ],
      "execution_count": null,
      "outputs": [
        {
          "output_type": "display_data",
          "data": {
            "image/png": "[encoded data removed]",
            "text/plain": [
              "<Figure size 432x288 with 1 Axes>"
            ]
          },
          "metadata": {
            "needs_background": "light"
          }
        }
      ]
    },
    {
      "cell_type": "code",
      "metadata": {
        "id": "glFgyCbCE5fE"
      },
      "source": [
        "df.head()"
      ],
      "execution_count": null,
      "outputs": []
    },
    {
      "cell_type": "code",
      "metadata": {
        "colab": {
          "base_uri": "https://localhost:8080/",
          "height": 297
        },
        "id": "ACV5PKGYNKIA",
        "outputId": "647516a8-d2a3-4125-a4bd-be5f55ce4be0"
      },
      "source": [
        "# Create a bar chart to compare low budget movies with high budget movies\n",
        "# ---\n",
        "# \n",
        "\n",
        "# create two groups (low and high budget movies) using the median\n",
        "m = df['budget'].median()\n",
        "low_budget =  df.query('budget < {}'.format(m))\n",
        "high_budget =  df.query('budget >= {}'.format(m))\n",
        "\n",
        "# check low budget and high budget mean values respecively \n",
        "mean_popularity_of_low_budget = low_budget['popularity'].mean()\n",
        "mean_popularity_of_high_budget = high_budget['popularity'].mean()\n",
        "\n",
        "# create a bar chart with the values we get above \n",
        "locations = [1,2]\n",
        "heights = [mean_popularity_of_low_budget , mean_popularity_of_high_budget]\n",
        "labels=['low','high']\n",
        "\n",
        "\n",
        "x = np.arange(len(labels))\n",
        "width = 0.35  # the width of the bars\n",
        "\n",
        "fig, ax = plt.subplots()\n",
        "rects1 = ax.bar(x, heights, width)\n",
        "rects2 = ax.bar(x, heights, width)\n",
        "\n",
        "\n",
        "# Add some text for labels, title and custom x-axis tick labels, etc.\n",
        "ax.set_ylabel('Popularity')\n",
        "ax.set_title(' Popularity of High and Low budget Movies')\n",
        "ax.set_xticks(x)\n",
        "ax.set_xticklabels(labels)\n",
        "\n",
        "\n",
        "\n",
        "\n",
        "fig.tight_layout()\n",
        "\n",
        "plt.show()\n",
        "\n"
      ],
      "execution_count": null,
      "outputs": [
        {
          "output_type": "display_data",
          "data": {
            "image/png": "[encoded data removed]",
            "text/plain": [
              "<Figure size 432x288 with 1 Axes>"
            ]
          },
          "metadata": {
            "needs_background": "light"
          }
        }
      ]
    },
    {
      "cell_type": "code",
      "metadata": {
        "colab": {
          "base_uri": "https://localhost:8080/"
        },
        "id": "SMppAQezTALP",
        "outputId": "d46d8405-b55c-46fe-9d09-9907b8e1d4c2"
      },
      "source": [
        "mean_popularity_of_high_budget"
      ],
      "execution_count": null,
      "outputs": [
        {
          "output_type": "execute_result",
          "data": {
            "text/plain": [
              "1.3628148991660343"
            ]
          },
          "metadata": {},
          "execution_count": 42
        }
      ]
    },
    {
      "cell_type": "code",
      "metadata": {
        "id": "Ei_rVVVcBCvz",
        "colab": {
          "base_uri": "https://localhost:8080/"
        },
        "outputId": "6147eecf-7e83-4145-bdde-3527c28dd1a4"
      },
      "source": [
        "# Percentage difference\n",
        "increase_percentage = (mean_popularity_of_high_budget - mean_popularity_of_low_budget) / mean_popularity_of_high_budget * 100\n",
        "increase_percentage"
      ],
      "execution_count": null,
      "outputs": [
        {
          "output_type": "execute_result",
          "data": {
            "text/plain": [
              "55.50933772947093"
            ]
          },
          "metadata": {},
          "execution_count": 37
        }
      ]
    },
    {
      "cell_type": "markdown",
      "metadata": {
        "id": "EFhikHlJA9Of"
      },
      "source": [
        "**Question 2:** Does the length of the movie affect the vote count and popularity?"
      ]
    },
    {
      "cell_type": "code",
      "metadata": {
        "id": "zn1S3fwR3x4W",
        "colab": {
          "base_uri": "https://localhost:8080/",
          "height": 297
        },
        "outputId": "aab758b4-c8e4-4d3b-ba54-73e37456cf05"
      },
      "source": [
        "# Question 2\n",
        "# ---\n",
        "# Does the length of the movie affect the vote count and popularity?\n",
        "# ---\n",
        "# \n",
        "\n",
        "# Create 3 movie groups:  <60 min: short, 60 min <=  <= - 120 min: medium,  >120 min: long \n",
        "short =  df.query('runtime < {}'.format(100))\n",
        "medium =  df.query('runtime < {}'.format(200))\n",
        "longer = df.query('runtime > {}'.format(200))\n",
        "\n",
        "# Check mean popularity of different movie lengths \n",
        "mean_popularity_of_short = short['popularity'].mean()\n",
        "mean_popularity_of_medium = medium['popularity'].mean()\n",
        "mean_popularity_of_long = longer['popularity'].mean()\n",
        "\n",
        "# Create a bar chart of average popularity of different movie lengths\n",
        "locations = [1,2,3]\n",
        "heights = [mean_popularity_of_short, mean_popularity_of_medium, mean_popularity_of_long]\n",
        "labels=['low','medium','high']\n",
        "\n",
        "\n",
        "\n",
        "x = np.arange(len(labels))\n",
        "width = 0.35  # the width of the bars\n",
        "\n",
        "fig, ax = plt.subplots()\n",
        "rect1 = ax.bar(x, heights, width)\n",
        "rect2 = ax.bar(x, heights, width)\n",
        "rect3 = ax.bar(x, heights, width)\n",
        "\n",
        "\n",
        "\n",
        "# Add some text for labels, title and custom x-axis tick labels, etc.\n",
        "ax.set_ylabel('Popularity')\n",
        "ax.set_title(' Average popularity of different movie lengths')\n",
        "ax.set_xticks(x)\n",
        "ax.set_xticklabels(labels)\n",
        "\n",
        "\n",
        "\n",
        "\n",
        "fig.tight_layout()\n",
        "\n",
        "plt.show()\n",
        "\n"
      ],
      "execution_count": null,
      "outputs": [
        {
          "output_type": "display_data",
          "data": {
            "image/png": "[encoded data removed]",
            "text/plain": [
              "<Figure size 432x288 with 1 Axes>"
            ]
          },
          "metadata": {
            "needs_background": "light"
          }
        }
      ]
    },
    {
      "cell_type": "code",
      "metadata": {
        "id": "Fa5yec4RCKDX",
        "colab": {
          "base_uri": "https://localhost:8080/",
          "height": 295
        },
        "outputId": "1ba24b84-7e2a-4db3-ac13-18f325bcef22"
      },
      "source": [
        "# Create a scatterplot to determine the relation between runtime and popularity \n",
        "# ---\n",
        "# \n",
        "runtime = df['runtime']\n",
        "popularity = df['popularity'] \n",
        "\n",
        "# Render \n",
        "plt.scatter(runtime, popularity)\n",
        "\n",
        "# Tweak & Label \n",
        "plt.title('Scatterplot of Runtime and Popularity')\n",
        "plt.xlabel('Runtime')\n",
        "plt.ylabel('Popularity')\n",
        "\n",
        "# Display\n",
        "plt.show()\n"
      ],
      "execution_count": null,
      "outputs": [
        {
          "output_type": "display_data",
          "data": {
            "image/png": "[encoded data removed]",
            "text/plain": [
              "<Figure size 432x288 with 1 Axes>"
            ]
          },
          "metadata": {
            "needs_background": "light"
          }
        }
      ]
    },
    {
      "cell_type": "markdown",
      "metadata": {
        "id": "J53SQpacClgX"
      },
      "source": [
        "**Question 3:** Does higher popularity mean higher profits?"
      ]
    },
    {
      "cell_type": "code",
      "metadata": {
        "id": "1y8vT3he3x0s",
        "colab": {
          "base_uri": "https://localhost:8080/",
          "height": 298
        },
        "outputId": "a8e759b0-4ad7-4f0d-cb5d-5b5de287ceb4"
      },
      "source": [
        "# Question 3\n",
        "# ---\n",
        "# Does higher popularity mean higher profits?\n",
        "# ---\n",
        "#\n",
        "\n",
        "# Getting the mean of popularity \n",
        "m_popularity = df['popularity'].median()\n",
        "lower_popularity =  df.query('popularity < {}'.format(m_popularity))\n",
        "higher_popularity =  df.query('popularity >= {}'.format(m_popularity))\n",
        "\n",
        "# Creating a new column called profit (profit = revenue - budget)\n",
        "df['profit'] = df['revenue'] - df['budget']\n",
        "df = df.dropna(axis = 0, how ='any')\n",
        "\n",
        "# Calculating the average net profit for low_popularity and high_popularity\n",
        "mean_profit_of_low_popularity = lower_popularity['profit'].mean()\n",
        "mean_profit_of_high_popularity = higher_popularity['profit'].mean()\n",
        "\n",
        "# create a bar chart with the values we get above \n",
        "locations = [1,2]\n",
        "heights = [mean_profit_of_low_popularity, mean_profit_of_high_popularity]\n",
        "labels=['low','high']\n",
        "\n",
        "# YOUR CODE GOES BELOW HERE\n",
        "x = np.arange(len(labels))\n",
        "width = 0.35  # the width of the bars\n",
        "\n",
        "fig, ax = plt.subplots()\n",
        "rect5 = ax.bar(x, heights, width)\n",
        "rect6 = ax.bar(x, heights, width)\n",
        "\n",
        "\n",
        "# Add some text for labels, title and custom x-axis tick labels, etc.\n",
        "ax.set_ylabel('Profits')\n",
        "ax.set_title(' Popularity Vs Profits')\n",
        "ax.set_xticks(x)\n",
        "ax.set_xticklabels(labels)\n",
        "\n"
      ],
      "execution_count": null,
      "outputs": [
        {
          "output_type": "execute_result",
          "data": {
            "text/plain": [
              "[Text(0, 0, 'low'), Text(0, 0, 'high')]"
            ]
          },
          "metadata": {},
          "execution_count": 75
        },
        {
          "output_type": "display_data",
          "data": {
            "image/png": "[encoded data removed]",
            "text/plain": [
              "<Figure size 432x288 with 1 Axes>"
            ]
          },
          "metadata": {
            "needs_background": "light"
          }
        }
      ]
    },
    {
      "cell_type": "code",
      "metadata": {
        "id": "JB7QmDEEYxF8"
      },
      "source": [
        "df.isnull().sum()"
      ],
      "execution_count": null,
      "outputs": []
    },
    {
      "cell_type": "markdown",
      "metadata": {
        "id": "e6ePg_STDjDd"
      },
      "source": [
        "**Question 4:** What features are associated with the top 10 revenue movies?"
      ]
    },
    {
      "cell_type": "code",
      "metadata": {
        "id": "aXQbXFet3xts"
      },
      "source": [
        "# Question 4\n",
        "# ---\n",
        "# What features are associated with the top 10 revenue movies?\n",
        "# ---\n",
        "#\n",
        "#import seaborn as sns\n",
        "#sns.pairplot(df)\n",
        "\n",
        "# Display\n",
        "#plt.show()\n",
        "Top10revenue= df.sort_values(by='revenue', ascending=0)\n",
        "Top10revenue.head(10)\n",
        "\n",
        "\n"
      ],
      "execution_count": null,
      "outputs": []
    },
    {
      "cell_type": "code",
      "metadata": {
        "id": "8aTP8trqsK3g"
      },
      "source": [
        "# Question 5\n",
        "# ---\n",
        "# Which genres are most popular from year to year?\n",
        "\n",
        "genre_df=df.groupby(['genres']).mean()\n",
        "genre_df.sort_values(by='popularity', ascending=0)\n",
        "\n",
        "\n",
        "\n"
      ],
      "execution_count": null,
      "outputs": []
    },
    {
      "cell_type": "markdown",
      "metadata": {
        "id": "uT6cBVNkD8Np"
      },
      "source": [
        "**Question 5:** Which genres are most popular from year to year?"
      ]
    },
    {
      "cell_type": "code",
      "metadata": {
        "id": "PBidMtmA3xlj",
        "colab": {
          "base_uri": "https://localhost:8080/",
          "height": 296
        },
        "outputId": "b61916ed-a19b-4a40-dd03-20bde9c20042"
      },
      "source": [
        "# Question 5\n",
        "# ---\n",
        "# Which genres are most popular from year to year?\n",
        "# ---\n",
        "#\n",
        "genre_df=df.groupby(['genres']).mean().reset_index()\n",
        "\n",
        "genre_df.sort_values(by='popularity', ascending=0)\n",
        "\n",
        "genree = genre_df['genres']\n",
        "popularity = genre_df['popularity']\n",
        "\n",
        "# Render \n",
        "plt.scatter(genree, popularity)\n",
        "\n",
        "# Tweak & Label \n",
        "plt.title('Genre Popularity')\n",
        "plt.xlabel('Genre')\n",
        "plt.ylabel('Popularity')\n",
        "\n",
        "# Display\n",
        "plt.show()\n"
      ],
      "execution_count": null,
      "outputs": [
        {
          "output_type": "display_data",
          "data": {
            "image/png": "[encoded data removed]",
            "text/plain": [
              "<Figure size 432x288 with 1 Axes>"
            ]
          },
          "metadata": {
            "needs_background": "light"
          }
        }
      ]
    },
    {
      "cell_type": "markdown",
      "metadata": {
        "id": "cpmGSOOqIMrt"
      },
      "source": [
        "### 5.b) Recommendations"
      ]
    },
    {
      "cell_type": "markdown",
      "metadata": {
        "id": "wDn2whdV0Zcg"
      },
      "source": [
        "From the above analysis, below are our recommendations:\n",
        "\n",
        "1. Movies with a higher budget do not necessarily end up being popular\n",
        "\n",
        "2. Medium movie lengths are most popular\n",
        "\n",
        "3. High popularity means high profits\n",
        "\n",
        "4. Top 10 revenue movies have a vote_average of higher than 6.5 and  most were released after 2009\n",
        "\n",
        "5. Adventure|Science Fiction|Thriller is the most popular genre on average year on year\n",
        "\n",
        "\n",
        "\n",
        "\n",
        "\n"
      ]
    },
    {
      "cell_type": "markdown",
      "metadata": {
        "id": "noZz5YRQXKzi"
      },
      "source": [
        "## 6. Challenging your Solution"
      ]
    },
    {
      "cell_type": "markdown",
      "metadata": {
        "id": "xrmHVMVsVS--"
      },
      "source": [
        "## 7. Follow up questions"
      ]
    },
    {
      "cell_type": "markdown",
      "metadata": {
        "id": "pth2qSWhuBIy"
      },
      "source": [
        "During this step, you rethink and propose other ways that you can improve your solution."
      ]
    },
    {
      "cell_type": "markdown",
      "metadata": {
        "id": "HPQviDmNtta8"
      },
      "source": [
        "We had the right data"
      ]
    },
    {
      "cell_type": "markdown",
      "metadata": {
        "id": "qjFHK1CKty7o"
      },
      "source": [
        "### b). Do we need other data to answer our question?"
      ]
    },
    {
      "cell_type": "markdown",
      "metadata": {
        "id": "HSsicSdvt4Zs"
      },
      "source": [
        "### c). Did we have the right question?"
      ]
    },
    {
      "cell_type": "markdown",
      "metadata": {
        "id": "DvVFZGvNKfSv"
      },
      "source": [
        "Yes"
      ]
    }
  ]
}